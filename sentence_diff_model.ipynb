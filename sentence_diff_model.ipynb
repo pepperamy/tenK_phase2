{
  "nbformat": 4,
  "nbformat_minor": 0,
  "metadata": {
    "colab": {
      "name": "sentence_diff_model.ipynb",
      "provenance": [],
      "collapsed_sections": [],
      "include_colab_link": true
    },
    "kernelspec": {
      "name": "python3",
      "display_name": "Python 3"
    },
    "language_info": {
      "name": "python"
    }
  },
  "cells": [
    {
      "cell_type": "markdown",
      "metadata": {
        "id": "view-in-github",
        "colab_type": "text"
      },
      "source": [
        "<a href=\"https://colab.research.google.com/github/pepperamy/tenK_phase2/blob/main/sentence_diff_model.ipynb\" target=\"_parent\"><img src=\"https://colab.research.google.com/assets/colab-badge.svg\" alt=\"Open In Colab\"/></a>"
      ]
    },
    {
      "cell_type": "code",
      "metadata": {
        "id": "t90T-0ilBfYx"
      },
      "source": [
        "from keras.preprocessing.text import Tokenizer, text_to_word_sequence"
      ],
      "execution_count": 1,
      "outputs": []
    },
    {
      "cell_type": "code",
      "metadata": {
        "id": "zAhu3zWfHZvt"
      },
      "source": [
        "import pandas as pd \n",
        "import numpy as np"
      ],
      "execution_count": 2,
      "outputs": []
    },
    {
      "cell_type": "code",
      "metadata": {
        "id": "Gc0iXhSsF57d"
      },
      "source": [
        "text_tb = pd.read_csv('quora_duplicate_question_1000(1).csv',encoding='windows-1252')"
      ],
      "execution_count": 4,
      "outputs": []
    },
    {
      "cell_type": "code",
      "metadata": {
        "id": "t32LJHk7UCjg",
        "colab": {
          "base_uri": "https://localhost:8080/",
          "height": 195
        },
        "outputId": "a459aa50-eee9-4445-ace1-40f318765902"
      },
      "source": [
        "text_tb.head()"
      ],
      "execution_count": 5,
      "outputs": [
        {
          "output_type": "execute_result",
          "data": {
            "text/html": [
              "<div>\n",
              "<style scoped>\n",
              "    .dataframe tbody tr th:only-of-type {\n",
              "        vertical-align: middle;\n",
              "    }\n",
              "\n",
              "    .dataframe tbody tr th {\n",
              "        vertical-align: top;\n",
              "    }\n",
              "\n",
              "    .dataframe thead th {\n",
              "        text-align: right;\n",
              "    }\n",
              "</style>\n",
              "<table border=\"1\" class=\"dataframe\">\n",
              "  <thead>\n",
              "    <tr style=\"text-align: right;\">\n",
              "      <th></th>\n",
              "      <th>q1</th>\n",
              "      <th>q2</th>\n",
              "      <th>is_duplicate</th>\n",
              "    </tr>\n",
              "  </thead>\n",
              "  <tbody>\n",
              "    <tr>\n",
              "      <th>0</th>\n",
              "      <td>A title for my continuation to The Gift of the...</td>\n",
              "      <td>How do I start my continuation for the Gift of...</td>\n",
              "      <td>0</td>\n",
              "    </tr>\n",
              "    <tr>\n",
              "      <th>1</th>\n",
              "      <td>According to the International Federation of R...</td>\n",
              "      <td>What type of belt can be used to lift 200 Kg c...</td>\n",
              "      <td>0</td>\n",
              "    </tr>\n",
              "    <tr>\n",
              "      <th>2</th>\n",
              "      <td>Are Canada Geese really Canadian?</td>\n",
              "      <td>What do Canadians call Canada?</td>\n",
              "      <td>0</td>\n",
              "    </tr>\n",
              "    <tr>\n",
              "      <th>3</th>\n",
              "      <td>Are exocytosis and endocytosis examples of act...</td>\n",
              "      <td>What are examples of passive transport in cells?</td>\n",
              "      <td>0</td>\n",
              "    </tr>\n",
              "    <tr>\n",
              "      <th>4</th>\n",
              "      <td>Are government employees eligible to Sukanya S...</td>\n",
              "      <td>Can a Government employee apply IEC?</td>\n",
              "      <td>0</td>\n",
              "    </tr>\n",
              "  </tbody>\n",
              "</table>\n",
              "</div>"
            ],
            "text/plain": [
              "                                                  q1  ... is_duplicate\n",
              "0  A title for my continuation to The Gift of the...  ...            0\n",
              "1  According to the International Federation of R...  ...            0\n",
              "2                  Are Canada Geese really Canadian?  ...            0\n",
              "3  Are exocytosis and endocytosis examples of act...  ...            0\n",
              "4  Are government employees eligible to Sukanya S...  ...            0\n",
              "\n",
              "[5 rows x 3 columns]"
            ]
          },
          "metadata": {
            "tags": []
          },
          "execution_count": 5
        }
      ]
    },
    {
      "cell_type": "code",
      "metadata": {
        "id": "u2Sg5rYwUcXD"
      },
      "source": [
        "#text_tb = text_tb.iloc[:,1:]"
      ],
      "execution_count": null,
      "outputs": []
    },
    {
      "cell_type": "code",
      "metadata": {
        "id": "vgWiMG0LUx4n"
      },
      "source": [
        "text_tb.head()"
      ],
      "execution_count": null,
      "outputs": []
    },
    {
      "cell_type": "code",
      "metadata": {
        "colab": {
          "base_uri": "https://localhost:8080/",
          "height": 195
        },
        "id": "c21cw2RBU2oH",
        "outputId": "939dd957-acbc-4606-eb19-f94b2b434a4a"
      },
      "source": [
        "text_tb.tail()"
      ],
      "execution_count": 7,
      "outputs": [
        {
          "output_type": "execute_result",
          "data": {
            "text/html": [
              "<div>\n",
              "<style scoped>\n",
              "    .dataframe tbody tr th:only-of-type {\n",
              "        vertical-align: middle;\n",
              "    }\n",
              "\n",
              "    .dataframe tbody tr th {\n",
              "        vertical-align: top;\n",
              "    }\n",
              "\n",
              "    .dataframe thead th {\n",
              "        text-align: right;\n",
              "    }\n",
              "</style>\n",
              "<table border=\"1\" class=\"dataframe\">\n",
              "  <thead>\n",
              "    <tr style=\"text-align: right;\">\n",
              "      <th></th>\n",
              "      <th>q1</th>\n",
              "      <th>q2</th>\n",
              "      <th>is_duplicate</th>\n",
              "    </tr>\n",
              "  </thead>\n",
              "  <tbody>\n",
              "    <tr>\n",
              "      <th>995</th>\n",
              "      <td>Will there really be any war between India and...</td>\n",
              "      <td>Will there be a nuclear war between India and ...</td>\n",
              "      <td>1</td>\n",
              "    </tr>\n",
              "    <tr>\n",
              "      <th>996</th>\n",
              "      <td>Will Thursday Night Football increase ratings ...</td>\n",
              "      <td>Why is The Big Bang Theory (TV series) so popu...</td>\n",
              "      <td>0</td>\n",
              "    </tr>\n",
              "    <tr>\n",
              "      <th>997</th>\n",
              "      <td>Would a woman in the Catholic Church be shunne...</td>\n",
              "      <td>What would happen if a woman sued the Catholic...</td>\n",
              "      <td>0</td>\n",
              "    </tr>\n",
              "    <tr>\n",
              "      <th>998</th>\n",
              "      <td>Would you switch from Canon 6D to Leica D-LUX ...</td>\n",
              "      <td>What tripod should I get for my Canon 6D?</td>\n",
              "      <td>0</td>\n",
              "    </tr>\n",
              "    <tr>\n",
              "      <th>999</th>\n",
              "      <td>You have given all statement as correct in UNC...</td>\n",
              "      <td>Have you ever been told any condescending stat...</td>\n",
              "      <td>0</td>\n",
              "    </tr>\n",
              "  </tbody>\n",
              "</table>\n",
              "</div>"
            ],
            "text/plain": [
              "                                                    q1  ... is_duplicate\n",
              "995  Will there really be any war between India and...  ...            1\n",
              "996  Will Thursday Night Football increase ratings ...  ...            0\n",
              "997  Would a woman in the Catholic Church be shunne...  ...            0\n",
              "998  Would you switch from Canon 6D to Leica D-LUX ...  ...            0\n",
              "999  You have given all statement as correct in UNC...  ...            0\n",
              "\n",
              "[5 rows x 3 columns]"
            ]
          },
          "metadata": {
            "tags": []
          },
          "execution_count": 7
        }
      ]
    },
    {
      "cell_type": "code",
      "metadata": {
        "id": "uRn5OUZNWEaS"
      },
      "source": [
        "import re\n",
        "import string"
      ],
      "execution_count": 19,
      "outputs": []
    },
    {
      "cell_type": "code",
      "metadata": {
        "id": "TexKZR6hWnb-"
      },
      "source": [
        "def split_word(sent):\n",
        "  tokens = sent.split(' ')\n",
        "\n",
        "  cleaned_tokens = []\n",
        "  \n",
        "  \n",
        "  for token in tokens:\n",
        "      # remove space around each token\n",
        "      token = token.strip(\"\")\n",
        "      \n",
        "      # recursively remove punctuations around a token\n",
        "      while len(token)>0:  \n",
        "          \n",
        "          # remove leading punctuation\n",
        "          if token[0] in string.punctuation:\n",
        "              token = token[1:]\n",
        "   \n",
        "          # remove trailing punctuation\n",
        "          if (len(token)>0) and (token[-1] in string.punctuation):\n",
        "              token = token[0:len(token)-1]\n",
        "          \n",
        "          # break if no leading or trailing punctuation\n",
        "          if (len(token)>0) and not (token[0] in string.punctuation or token[-1] in string.punctuation):\n",
        "              break\n",
        "      \n",
        "      # add non-empty token in lower case\n",
        "      if len(token)>0:\n",
        "          cleaned_tokens.append(token.lower())\n",
        "\n",
        "  return cleaned_tokens"
      ],
      "execution_count": 48,
      "outputs": []
    },
    {
      "cell_type": "code",
      "metadata": {
        "colab": {
          "base_uri": "https://localhost:8080/",
          "height": 35
        },
        "id": "m-c95VhRg9iS",
        "outputId": "bc2279b6-b885-4a5a-e173-70638fdf11b3"
      },
      "source": [
        "string.punctuation"
      ],
      "execution_count": 45,
      "outputs": [
        {
          "output_type": "execute_result",
          "data": {
            "application/vnd.google.colaboratory.intrinsic+json": {
              "type": "string"
            },
            "text/plain": [
              "'!\"#$%&\\'()*+,-./:;<=>?@[\\\\]^_`{|}~'"
            ]
          },
          "metadata": {
            "tags": []
          },
          "execution_count": 45
        }
      ]
    },
    {
      "cell_type": "code",
      "metadata": {
        "colab": {
          "base_uri": "https://localhost:8080/"
        },
        "id": "TQBbXrcVgsUQ",
        "outputId": "640b9edf-014b-4245-df33-e151d80cd67b"
      },
      "source": [
        "split_word('hello, how are you? . why-66')"
      ],
      "execution_count": 49,
      "outputs": [
        {
          "output_type": "execute_result",
          "data": {
            "text/plain": [
              "['hello', 'how', 'are', 'you', 'why-66']"
            ]
          },
          "metadata": {
            "tags": []
          },
          "execution_count": 49
        }
      ]
    },
    {
      "cell_type": "code",
      "metadata": {
        "id": "hvlMYTwKUi41"
      },
      "source": [
        "text_tb['num_q1'] = text_tb.q1.apply(lambda x: len(split_word(x)))"
      ],
      "execution_count": 50,
      "outputs": []
    },
    {
      "cell_type": "code",
      "metadata": {
        "id": "Wl6gRiv2dgeU"
      },
      "source": [
        "text_tb['num_q2'] = text_tb.q1.apply(lambda x: len(split_word(x)))"
      ],
      "execution_count": 51,
      "outputs": []
    },
    {
      "cell_type": "code",
      "metadata": {
        "id": "85yT7AFMU6dT"
      },
      "source": [
        "num_list = pd.DataFrame(list(text_tb.num_q1) + list(text_tb.num_q2),columns=['num'])"
      ],
      "execution_count": 52,
      "outputs": []
    },
    {
      "cell_type": "code",
      "metadata": {
        "id": "42zexX34ZUyI",
        "colab": {
          "base_uri": "https://localhost:8080/",
          "height": 402
        },
        "outputId": "cdd54aa9-235a-4265-d2c5-8899bfbc3a6f"
      },
      "source": [
        "num_list"
      ],
      "execution_count": 53,
      "outputs": [
        {
          "output_type": "execute_result",
          "data": {
            "text/html": [
              "<div>\n",
              "<style scoped>\n",
              "    .dataframe tbody tr th:only-of-type {\n",
              "        vertical-align: middle;\n",
              "    }\n",
              "\n",
              "    .dataframe tbody tr th {\n",
              "        vertical-align: top;\n",
              "    }\n",
              "\n",
              "    .dataframe thead th {\n",
              "        text-align: right;\n",
              "    }\n",
              "</style>\n",
              "<table border=\"1\" class=\"dataframe\">\n",
              "  <thead>\n",
              "    <tr style=\"text-align: right;\">\n",
              "      <th></th>\n",
              "      <th>num</th>\n",
              "    </tr>\n",
              "  </thead>\n",
              "  <tbody>\n",
              "    <tr>\n",
              "      <th>0</th>\n",
              "      <td>11</td>\n",
              "    </tr>\n",
              "    <tr>\n",
              "      <th>1</th>\n",
              "      <td>13</td>\n",
              "    </tr>\n",
              "    <tr>\n",
              "      <th>2</th>\n",
              "      <td>5</td>\n",
              "    </tr>\n",
              "    <tr>\n",
              "      <th>3</th>\n",
              "      <td>10</td>\n",
              "    </tr>\n",
              "    <tr>\n",
              "      <th>4</th>\n",
              "      <td>8</td>\n",
              "    </tr>\n",
              "    <tr>\n",
              "      <th>...</th>\n",
              "      <td>...</td>\n",
              "    </tr>\n",
              "    <tr>\n",
              "      <th>1995</th>\n",
              "      <td>19</td>\n",
              "    </tr>\n",
              "    <tr>\n",
              "      <th>1996</th>\n",
              "      <td>17</td>\n",
              "    </tr>\n",
              "    <tr>\n",
              "      <th>1997</th>\n",
              "      <td>19</td>\n",
              "    </tr>\n",
              "    <tr>\n",
              "      <th>1998</th>\n",
              "      <td>10</td>\n",
              "    </tr>\n",
              "    <tr>\n",
              "      <th>1999</th>\n",
              "      <td>23</td>\n",
              "    </tr>\n",
              "  </tbody>\n",
              "</table>\n",
              "<p>2000 rows × 1 columns</p>\n",
              "</div>"
            ],
            "text/plain": [
              "      num\n",
              "0      11\n",
              "1      13\n",
              "2       5\n",
              "3      10\n",
              "4       8\n",
              "...   ...\n",
              "1995   19\n",
              "1996   17\n",
              "1997   19\n",
              "1998   10\n",
              "1999   23\n",
              "\n",
              "[2000 rows x 1 columns]"
            ]
          },
          "metadata": {
            "tags": []
          },
          "execution_count": 53
        }
      ]
    },
    {
      "cell_type": "code",
      "metadata": {
        "id": "Prz-McegYRF_"
      },
      "source": [
        "tb = num_list.num.value_counts().to_frame().reset_index().sort_values(by=['index']).rename(columns={'index':'num','num':'cnt'})\n",
        "#.reset_index()\n",
        "tb['percent']=tb['cnt']/len(num_list)\n",
        "tb['cumsum_']=tb['percent'].cumsum()\n",
        "# print(tb.shape)"
      ],
      "execution_count": 54,
      "outputs": []
    },
    {
      "cell_type": "code",
      "metadata": {
        "colab": {
          "base_uri": "https://localhost:8080/",
          "height": 195
        },
        "id": "mQ_DCeyEU6f5",
        "outputId": "ebf65534-3fab-44ac-c964-39931970bcab"
      },
      "source": [
        "tb[tb.cumsum_<=0.70].tail()"
      ],
      "execution_count": 55,
      "outputs": [
        {
          "output_type": "execute_result",
          "data": {
            "text/html": [
              "<div>\n",
              "<style scoped>\n",
              "    .dataframe tbody tr th:only-of-type {\n",
              "        vertical-align: middle;\n",
              "    }\n",
              "\n",
              "    .dataframe tbody tr th {\n",
              "        vertical-align: top;\n",
              "    }\n",
              "\n",
              "    .dataframe thead th {\n",
              "        text-align: right;\n",
              "    }\n",
              "</style>\n",
              "<table border=\"1\" class=\"dataframe\">\n",
              "  <thead>\n",
              "    <tr style=\"text-align: right;\">\n",
              "      <th></th>\n",
              "      <th>num</th>\n",
              "      <th>cnt</th>\n",
              "      <th>percent</th>\n",
              "      <th>cumsum_</th>\n",
              "    </tr>\n",
              "  </thead>\n",
              "  <tbody>\n",
              "    <tr>\n",
              "      <th>1</th>\n",
              "      <td>7</td>\n",
              "      <td>246</td>\n",
              "      <td>0.123</td>\n",
              "      <td>0.285</td>\n",
              "    </tr>\n",
              "    <tr>\n",
              "      <th>2</th>\n",
              "      <td>8</td>\n",
              "      <td>228</td>\n",
              "      <td>0.114</td>\n",
              "      <td>0.399</td>\n",
              "    </tr>\n",
              "    <tr>\n",
              "      <th>0</th>\n",
              "      <td>9</td>\n",
              "      <td>262</td>\n",
              "      <td>0.131</td>\n",
              "      <td>0.530</td>\n",
              "    </tr>\n",
              "    <tr>\n",
              "      <th>3</th>\n",
              "      <td>10</td>\n",
              "      <td>194</td>\n",
              "      <td>0.097</td>\n",
              "      <td>0.627</td>\n",
              "    </tr>\n",
              "    <tr>\n",
              "      <th>5</th>\n",
              "      <td>11</td>\n",
              "      <td>144</td>\n",
              "      <td>0.072</td>\n",
              "      <td>0.699</td>\n",
              "    </tr>\n",
              "  </tbody>\n",
              "</table>\n",
              "</div>"
            ],
            "text/plain": [
              "   num  cnt  percent  cumsum_\n",
              "1    7  246    0.123    0.285\n",
              "2    8  228    0.114    0.399\n",
              "0    9  262    0.131    0.530\n",
              "3   10  194    0.097    0.627\n",
              "5   11  144    0.072    0.699"
            ]
          },
          "metadata": {
            "tags": []
          },
          "execution_count": 55
        }
      ]
    },
    {
      "cell_type": "code",
      "metadata": {
        "id": "7ZJhMUzLgiIq"
      },
      "source": [
        "text = list(text_tb.q1) + list(text_tb.q2)"
      ],
      "execution_count": 57,
      "outputs": []
    },
    {
      "cell_type": "code",
      "metadata": {
        "colab": {
          "base_uri": "https://localhost:8080/"
        },
        "id": "hC-kNEKngt1f",
        "outputId": "8a525323-e127-41a6-c433-00c3e0c2326d"
      },
      "source": [
        "len(text)"
      ],
      "execution_count": 58,
      "outputs": [
        {
          "output_type": "execute_result",
          "data": {
            "text/plain": [
              "2000"
            ]
          },
          "metadata": {
            "tags": []
          },
          "execution_count": 58
        }
      ]
    },
    {
      "cell_type": "code",
      "metadata": {
        "id": "j6lMoREvCAT0"
      },
      "source": [
        "tokenizer = Tokenizer()\n",
        "tokenizer.fit_on_texts(text)\n",
        "word_index = tokenizer.word_index"
      ],
      "execution_count": 59,
      "outputs": []
    },
    {
      "cell_type": "code",
      "metadata": {
        "id": "L0qNa8GRF2Ur",
        "colab": {
          "base_uri": "https://localhost:8080/"
        },
        "outputId": "fe04d098-bdd3-4aed-f664-6504ee4c44c9"
      },
      "source": [
        "len(word_index)"
      ],
      "execution_count": 60,
      "outputs": [
        {
          "output_type": "execute_result",
          "data": {
            "text/plain": [
              "3990"
            ]
          },
          "metadata": {
            "tags": []
          },
          "execution_count": 60
        }
      ]
    },
    {
      "cell_type": "code",
      "metadata": {
        "id": "kikucB19F3kL"
      },
      "source": [
        "w2v = pd.read_csv('glove.6B.50d.txt', sep=\" \", quoting=3, header=None, index_col=0)"
      ],
      "execution_count": 61,
      "outputs": []
    },
    {
      "cell_type": "code",
      "metadata": {
        "id": "i2Z92prWHYhJ"
      },
      "source": [
        "glove = {key: val.values for key, val in w2v.T.items()}"
      ],
      "execution_count": 62,
      "outputs": []
    },
    {
      "cell_type": "code",
      "metadata": {
        "id": "f4sbS9nqHgUc"
      },
      "source": [
        "glove"
      ],
      "execution_count": null,
      "outputs": []
    },
    {
      "cell_type": "code",
      "metadata": {
        "id": "lE1nL7l7HjVa"
      },
      "source": [
        "def generate_seq(docs, DOC_NUM, MAX_LEN, MAX_WORDS, word_index):\n",
        "  sequences = np.zeros((DOC_NUM, MAX_LEN))\n",
        "  print(sequences.shape)\n",
        "  for i, doc in enumerate(docs):\n",
        "    wordTokens = text_to_word_sequence(doc)\n",
        "    #print(wordTokens)\n",
        "    for j, word in enumerate(wordTokens):\n",
        "      #print(word)\n",
        "      if j < MAX_LEN and word_index[word]< MAX_WORDS:\n",
        "        sequences[i,j] = word_index[word] \n",
        "  return sequences"
      ],
      "execution_count": 64,
      "outputs": []
    },
    {
      "cell_type": "code",
      "metadata": {
        "id": "wamscPe_HpqG"
      },
      "source": [
        "DOC_NUM = len(text)\n",
        "MAX_LEN = 12\n",
        "MAX_WORDS = 3000\n",
        "EMBEDDING_DIM = 50"
      ],
      "execution_count": 81,
      "outputs": []
    },
    {
      "cell_type": "code",
      "metadata": {
        "colab": {
          "base_uri": "https://localhost:8080/"
        },
        "id": "x0RpPVdFSY0K",
        "outputId": "1affc05f-a854-4ece-a61f-178e01e60ea9"
      },
      "source": [
        "sequences_1 = generate_seq(text_tb.q1, len(text_tb.q1), MAX_LEN, MAX_WORDS, word_index)"
      ],
      "execution_count": 87,
      "outputs": [
        {
          "output_type": "stream",
          "text": [
            "(1000, 12)\n"
          ],
          "name": "stdout"
        }
      ]
    },
    {
      "cell_type": "code",
      "metadata": {
        "colab": {
          "base_uri": "https://localhost:8080/"
        },
        "id": "LLm_yKyDiWca",
        "outputId": "8237b2c1-6147-4720-8b58-3033792149e2"
      },
      "source": [
        "sequences_2 = generate_seq(text_tb.q2, len(text_tb.q2), MAX_LEN, MAX_WORDS, word_index)"
      ],
      "execution_count": 88,
      "outputs": [
        {
          "output_type": "stream",
          "text": [
            "(1000, 12)\n"
          ],
          "name": "stdout"
        }
      ]
    },
    {
      "cell_type": "code",
      "metadata": {
        "id": "E6R7pVINcJgg"
      },
      "source": [
        "# def get_input(sequences,win_size):\n",
        "#   input_data_1 = np.array([[np.NaN]*win_size])\n",
        "#   input_data_2 = np.array([[np.NaN]*win_size])\n",
        "#   sent_1 = sequences[0]\n",
        "#   sent_2 = sequences[1]\n",
        "#   for idx in np.arange(0,len(sent_1)):\n",
        "#     if idx <= len(sent_1)-win_size:\n",
        "#       temp_1 = np.array(sent_1[idx:idx+win_size]).reshape(1,win_size)\n",
        "#       temp_2 = np.array(sent_2[idx:idx+win_size]).reshape(1,win_size)\n",
        "#       # print(temp_1)\n",
        "#       # print(input_data_1)\n",
        "#       input_data_1 = np.concatenate((input_data_1, temp_1))\n",
        "#       input_data_2 = np.concatenate((input_data_2, temp_2))\n",
        "#   input_data_1 = input_data_1[~np.isnan(input_data_1).any(axis=1)]\n",
        "#   input_data_2 = input_data_2[~np.isnan(input_data_2).any(axis=1)]\n",
        "#   return input_data_1, input_data_2"
      ],
      "execution_count": null,
      "outputs": []
    },
    {
      "cell_type": "code",
      "metadata": {
        "id": "jApyUuw0f0Bz"
      },
      "source": [
        "# input_data_1, input_data_2 = get_input(sequences,5)"
      ],
      "execution_count": null,
      "outputs": []
    },
    {
      "cell_type": "code",
      "metadata": {
        "id": "0duw28tgi608"
      },
      "source": [
        "# input_data_1"
      ],
      "execution_count": null,
      "outputs": []
    },
    {
      "cell_type": "code",
      "metadata": {
        "id": "wza07mRbi63b"
      },
      "source": [
        "# input_data_2.shape"
      ],
      "execution_count": null,
      "outputs": []
    },
    {
      "cell_type": "code",
      "metadata": {
        "id": "Uo2eBc6F-QBw"
      },
      "source": [
        "# type(input_data_2[0][0])"
      ],
      "execution_count": null,
      "outputs": []
    },
    {
      "cell_type": "code",
      "metadata": {
        "id": "YAjYJ25oH6zr"
      },
      "source": [
        "def generate_embedding(EMBEDDING_DIM, MAX_WORDS, word_index, w2v_model):\n",
        "  embedding_matrix = np.zeros(((MAX_WORDS + 1), EMBEDDING_DIM))\n",
        "  ignored=[]\n",
        "  cnt=0\n",
        "  for word, i in word_index.items():\n",
        "    if (word in w2v_model.keys()) & (i <= MAX_WORDS):\n",
        "        #print(word)\n",
        "        embedding_vector = w2v_model[word]\n",
        "        cnt+=1\n",
        "        if embedding_vector is not None:\n",
        "            embedding_matrix[i] = embedding_vector\n",
        "    else: \n",
        "      ignored.append(word)\n",
        "      #print(word)\n",
        "  print(cnt)\n",
        "  print(ignored[0:10])\n",
        "  print(len(ignored))\n",
        "  return embedding_matrix"
      ],
      "execution_count": 69,
      "outputs": []
    },
    {
      "cell_type": "code",
      "metadata": {
        "colab": {
          "base_uri": "https://localhost:8080/"
        },
        "id": "vNn8Lg4XIF0v",
        "outputId": "4ebc02c4-cd7c-48a0-a3a1-9b9dc04454cf"
      },
      "source": [
        "embedding = generate_embedding(EMBEDDING_DIM, MAX_WORDS, word_index, glove)"
      ],
      "execution_count": 70,
      "outputs": [
        {
          "output_type": "stream",
          "text": [
            "2867\n",
            "[\"what's\", \"don't\", \"i'm\", \"can't\", \"you've\", \"doesn't\", \"it's\", \"haven't\", \"assassin's\", 'angularjs']\n",
            "1123\n"
          ],
          "name": "stdout"
        }
      ]
    },
    {
      "cell_type": "code",
      "metadata": {
        "id": "x7kJpXXlI-gQ"
      },
      "source": [
        "from keras.preprocessing.text import Tokenizer, text_to_word_sequence\n",
        "from keras.preprocessing.sequence import pad_sequences\n",
        "from keras.utils.np_utils import to_categorical\n",
        "\n",
        "from keras import backend as K\n",
        "from keras.engine.topology import Layer, InputSpec\n",
        "from keras import initializers\n",
        "\n",
        "from keras import optimizers\n",
        "\n",
        "from keras.layers import Embedding, Dense, Conv1D, MaxPooling1D, MaxPooling2D, Dropout, Activation, Input, Flatten, Concatenate, Reshape,\\\n",
        "              Conv2D, GlobalAveragePooling1D, LSTM, GRU, Bidirectional, dot, multiply, Lambda, TimeDistributed, Masking, Subtract,\\\n",
        "              Lambda, Multiply\n",
        "\n",
        "from keras.models import Model, Sequential\n",
        "from keras.regularizers import l2,l1,l1_l2\n",
        "from keras.callbacks import Callback,EarlyStopping, ModelCheckpoint\n",
        "from sklearn.utils import class_weight\n",
        "from keras.initializers import Constant\n",
        "from keras import metrics\n",
        "\n",
        "from keras.callbacks import Callback\n",
        "\n",
        "from keras.layers.normalization import BatchNormalization\n",
        "from sklearn.model_selection import KFold, train_test_split, StratifiedKFold\n",
        "from sklearn.metrics import precision_recall_fscore_support, precision_recall_curve, classification_report,accuracy_score, auc, roc_curve, roc_auc_score, average_precision_score"
      ],
      "execution_count": 71,
      "outputs": []
    },
    {
      "cell_type": "code",
      "metadata": {
        "id": "5cd6sQh8IplT"
      },
      "source": [
        "def match_model(MAX_WORDS, MAX_LEN, EMBEDDING_DIM, F):\n",
        "\n",
        "  global embedding\n",
        "  embedding_layer = Embedding( MAX_WORDS+1,EMBEDDING_DIM,embeddings_initializer = Constant(embedding),\n",
        "                  mask_zero=True,input_length=MAX_LEN,trainable=False) \n",
        "  \n",
        "  input_1 = Input(shape=(MAX_LEN,), dtype='float32')\n",
        "  input_2 = Input(shape=(MAX_LEN,), dtype='float32')\n",
        "\n",
        "  embedded_sequences_1 = embedding_layer(input_1)\n",
        "  embedded_sequences_2 = embedding_layer(input_2)\n",
        "\n",
        "  #build gate \n",
        "  vect_1 = Conv1D(filters=36, kernel_size=3, padding='same',name='transfer_1')(embedded_sequences_1)\n",
        "  vect_2 = Conv1D(filters=36, kernel_size=3, padding='same',name='transfer_2')(embedded_sequences_2)\n",
        "  embedded_distance = Subtract(name='subtract_embeddings')([vect_1, vect_2])\n",
        "  embedded_distance = Lambda(lambda x: K.sum(K.abs(x), axis=-1, keepdims=True), \n",
        "        name='euclidean_distance')(embedded_distance)\n",
        "  #build 1dcnn\n",
        "  input_all = Concatenate(axis = -1)([embedded_sequences_1, embedded_sequences_2])\n",
        "  layer1_conv=Conv1D(filters=F, kernel_size=3, padding='same', name='1d_cnn')(input_all)\n",
        "  layer1_activation=Activation('relu')(layer1_conv)\n",
        "  multiply_layer = Multiply()([layer1_activation,embedded_distance])\n",
        "  input_reshape = Reshape((MAX_LEN, MAX_LEN, -1))(multiply_layer)\n",
        "  z = MaxPooling2D(pool_size=(2, 2))(input_reshape)\n",
        "\n",
        "  num_conv2d_layers = 2\n",
        "  for i in range(num_conv2d_layers):\n",
        "    z=Conv2D(filters=10, kernel_size=(3,3), padding='same')(z)\n",
        "    z=Activation('relu')(z)\n",
        "    z=MaxPooling2D(pool_size=(2, 2))(z)\n",
        "\n",
        "  x = Flatten()(z)\n",
        "  x = Dense(1024,activation='relu')(x)\n",
        "  x = BatchNormalization()(x)      \n",
        "  x = Dense(256,activation='relu')(x)\n",
        "  x = BatchNormalization()(x)          \n",
        "  x = Dense(64,activation='relu')(x)\n",
        "  x = Dropout(0.5)(x)        \n",
        "  preds = Dense(1, activation='sigmoid', name='output')(x)\n",
        "  model = Model(inputs=[input_1, input_2], outputs=preds)\n",
        "  model._name = \"model_basic\"\n",
        "  model.summary()  \n",
        "  return model\n",
        "  "
      ],
      "execution_count": 77,
      "outputs": []
    },
    {
      "cell_type": "code",
      "metadata": {
        "colab": {
          "base_uri": "https://localhost:8080/",
          "height": 1000
        },
        "id": "IsiKNgbtqsf8",
        "outputId": "6f809755-ca2b-48ce-a754-f2d042bb93f9"
      },
      "source": [
        "model_1 = match_model(MAX_WORDS, MAX_LEN, EMBEDDING_DIM, 24)\n",
        "\n",
        "\n",
        "from IPython.display import SVG\n",
        "from keras.utils.vis_utils import model_to_dot\n",
        "\n",
        "from keras.utils.vis_utils import plot_model\n",
        "\n",
        "SVG(model_to_dot(model_1, dpi=65).create(prog='dot', format='svg'))\n",
        "plot_model(model_1, to_file='model.png')"
      ],
      "execution_count": 84,
      "outputs": [
        {
          "output_type": "stream",
          "text": [
            "Model: \"model_basic\"\n",
            "__________________________________________________________________________________________________\n",
            "Layer (type)                    Output Shape         Param #     Connected to                     \n",
            "==================================================================================================\n",
            "input_13 (InputLayer)           [(None, 12)]         0                                            \n",
            "__________________________________________________________________________________________________\n",
            "input_14 (InputLayer)           [(None, 12)]         0                                            \n",
            "__________________________________________________________________________________________________\n",
            "embedding_6 (Embedding)         (None, 12, 50)       150050      input_13[0][0]                   \n",
            "                                                                 input_14[0][0]                   \n",
            "__________________________________________________________________________________________________\n",
            "concatenate_6 (Concatenate)     (None, 12, 100)      0           embedding_6[0][0]                \n",
            "                                                                 embedding_6[1][0]                \n",
            "__________________________________________________________________________________________________\n",
            "transfer_1 (Conv1D)             (None, 12, 36)       5436        embedding_6[0][0]                \n",
            "__________________________________________________________________________________________________\n",
            "transfer_2 (Conv1D)             (None, 12, 36)       5436        embedding_6[1][0]                \n",
            "__________________________________________________________________________________________________\n",
            "1d_cnn (Conv1D)                 (None, 12, 24)       7224        concatenate_6[0][0]              \n",
            "__________________________________________________________________________________________________\n",
            "subtract_embeddings (Subtract)  (None, 12, 36)       0           transfer_1[0][0]                 \n",
            "                                                                 transfer_2[0][0]                 \n",
            "__________________________________________________________________________________________________\n",
            "activation_8 (Activation)       (None, 12, 24)       0           1d_cnn[0][0]                     \n",
            "__________________________________________________________________________________________________\n",
            "euclidean_distance (Lambda)     (None, 12, 1)        0           subtract_embeddings[0][0]        \n",
            "__________________________________________________________________________________________________\n",
            "multiply_6 (Multiply)           (None, 12, 24)       0           activation_8[0][0]               \n",
            "                                                                 euclidean_distance[0][0]         \n",
            "__________________________________________________________________________________________________\n",
            "reshape_6 (Reshape)             (None, 12, 12, 2)    0           multiply_6[0][0]                 \n",
            "__________________________________________________________________________________________________\n",
            "max_pooling2d_3 (MaxPooling2D)  (None, 6, 6, 2)      0           reshape_6[0][0]                  \n",
            "__________________________________________________________________________________________________\n",
            "conv2d_2 (Conv2D)               (None, 6, 6, 10)     190         max_pooling2d_3[0][0]            \n",
            "__________________________________________________________________________________________________\n",
            "activation_9 (Activation)       (None, 6, 6, 10)     0           conv2d_2[0][0]                   \n",
            "__________________________________________________________________________________________________\n",
            "max_pooling2d_4 (MaxPooling2D)  (None, 3, 3, 10)     0           activation_9[0][0]               \n",
            "__________________________________________________________________________________________________\n",
            "conv2d_3 (Conv2D)               (None, 3, 3, 10)     910         max_pooling2d_4[0][0]            \n",
            "__________________________________________________________________________________________________\n",
            "activation_10 (Activation)      (None, 3, 3, 10)     0           conv2d_3[0][0]                   \n",
            "__________________________________________________________________________________________________\n",
            "max_pooling2d_5 (MaxPooling2D)  (None, 1, 1, 10)     0           activation_10[0][0]              \n",
            "__________________________________________________________________________________________________\n",
            "flatten_1 (Flatten)             (None, 10)           0           max_pooling2d_5[0][0]            \n",
            "__________________________________________________________________________________________________\n",
            "dense_3 (Dense)                 (None, 1024)         11264       flatten_1[0][0]                  \n",
            "__________________________________________________________________________________________________\n",
            "batch_normalization_2 (BatchNor (None, 1024)         4096        dense_3[0][0]                    \n",
            "__________________________________________________________________________________________________\n",
            "dense_4 (Dense)                 (None, 256)          262400      batch_normalization_2[0][0]      \n",
            "__________________________________________________________________________________________________\n",
            "batch_normalization_3 (BatchNor (None, 256)          1024        dense_4[0][0]                    \n",
            "__________________________________________________________________________________________________\n",
            "dense_5 (Dense)                 (None, 64)           16448       batch_normalization_3[0][0]      \n",
            "__________________________________________________________________________________________________\n",
            "dropout_1 (Dropout)             (None, 64)           0           dense_5[0][0]                    \n",
            "__________________________________________________________________________________________________\n",
            "output (Dense)                  (None, 1)            65          dropout_1[0][0]                  \n",
            "==================================================================================================\n",
            "Total params: 464,543\n",
            "Trainable params: 311,933\n",
            "Non-trainable params: 152,610\n",
            "__________________________________________________________________________________________________\n"
          ],
          "name": "stdout"
        },
        {
          "output_type": "execute_result",
          "data": {
            "image/png": "[encoded data removed]",
            "text/plain": [
              "<IPython.core.display.Image object>"
            ]
          },
          "metadata": {
            "tags": []
          },
          "execution_count": 84
        }
      ]
    },
    {
      "cell_type": "code",
      "metadata": {
        "id": "MliY19N2f4AB"
      },
      "source": [
        "from sklearn.model_selection import train_test_split"
      ],
      "execution_count": 85,
      "outputs": []
    },
    {
      "cell_type": "code",
      "metadata": {
        "id": "gW_SOYbtf5Lr"
      },
      "source": [
        "train_x_1, test_x_1, train_x_2, test_x_2, train_y, test_y = train_test_split(sequences_1, sequences_2, text_tb.is_duplicate,\\\n",
        "                                          test_size=0.33, shuffle=True)"
      ],
      "execution_count": 89,
      "outputs": []
    },
    {
      "cell_type": "code",
      "metadata": {
        "colab": {
          "base_uri": "https://localhost:8080/"
        },
        "id": "3mVJEjFGcphx",
        "outputId": "2815eaf2-b410-4657-ed29-12933c9eacf4"
      },
      "source": [
        "opt = optimizers.RMSprop(lr=0.01)\n",
        "model_1.compile(optimizer= opt,\n",
        "          loss= 'binary_crossentropy', #'mean_squared_error',\n",
        "          metrics=['accuracy',metrics.AUC(name='my_auc')])\n",
        "earlyStopping = EarlyStopping(monitor='val_loss',patience = 5, \n",
        "                  verbose =1, mode ='min')\n",
        "checkPoint = ModelCheckpoint('best_model_1', monitor='val_loss', verbose=2, save_best_only=True, mode='min')"
      ],
      "execution_count": 91,
      "outputs": [
        {
          "output_type": "stream",
          "text": [
            "/usr/local/lib/python3.7/dist-packages/tensorflow/python/keras/optimizer_v2/optimizer_v2.py:375: UserWarning: The `lr` argument is deprecated, use `learning_rate` instead.\n",
            "  \"The `lr` argument is deprecated, use `learning_rate` instead.\")\n"
          ],
          "name": "stderr"
        }
      ]
    },
    {
      "cell_type": "code",
      "metadata": {
        "id": "k-x7XCoYcpkI",
        "colab": {
          "base_uri": "https://localhost:8080/"
        },
        "outputId": "6d56611c-7865-4aab-e851-ad7189aa7315"
      },
      "source": [
        "hist = model_1.fit([train_x_1,train_x_2], train_y, validation_data=([test_x_1,test_x_2], test_y),\\\n",
        "       callbacks = [earlyStopping, checkPoint], batch_size=32, epochs=100, verbose=1)"
      ],
      "execution_count": 92,
      "outputs": [
        {
          "output_type": "stream",
          "text": [
            "Epoch 1/100\n",
            "21/21 [==============================] - 25s 72ms/step - loss: 1.7953 - accuracy: 0.5424 - my_auc: 0.5351 - val_loss: 18.3189 - val_accuracy: 0.6091 - val_my_auc: 0.5053\n",
            "Epoch 2/100\n",
            "21/21 [==============================] - 0s 17ms/step - loss: 0.9261 - accuracy: 0.6067 - my_auc: 0.5325 - val_loss: 1.0351 - val_accuracy: 0.6030 - val_my_auc: 0.4579\n",
            "Epoch 3/100\n",
            "21/21 [==============================] - 0s 17ms/step - loss: 0.7162 - accuracy: 0.5965 - my_auc: 0.5959 - val_loss: 1.0906 - val_accuracy: 0.6091 - val_my_auc: 0.4330\n",
            "Epoch 4/100\n",
            "21/21 [==============================] - 0s 16ms/step - loss: 0.6855 - accuracy: 0.6056 - my_auc: 0.6003 - val_loss: 0.7280 - val_accuracy: 0.5909 - val_my_auc: 0.4858\n",
            "Epoch 5/100\n",
            "21/21 [==============================] - 0s 18ms/step - loss: 0.6981 - accuracy: 0.5961 - my_auc: 0.5738 - val_loss: 0.7063 - val_accuracy: 0.6152 - val_my_auc: 0.5502\n",
            "Epoch 6/100\n",
            "21/21 [==============================] - 0s 16ms/step - loss: 0.6948 - accuracy: 0.6231 - my_auc: 0.6146 - val_loss: 0.7494 - val_accuracy: 0.6394 - val_my_auc: 0.6105\n",
            "Epoch 7/100\n",
            "21/21 [==============================] - 0s 16ms/step - loss: 0.6461 - accuracy: 0.6608 - my_auc: 0.6537 - val_loss: 0.7260 - val_accuracy: 0.6091 - val_my_auc: 0.4213\n",
            "Epoch 8/100\n",
            "21/21 [==============================] - 0s 17ms/step - loss: 0.5963 - accuracy: 0.6613 - my_auc: 0.7398 - val_loss: 1.7555 - val_accuracy: 0.4606 - val_my_auc: 0.6337\n",
            "Epoch 9/100\n",
            "21/21 [==============================] - 0s 18ms/step - loss: 0.5306 - accuracy: 0.7590 - my_auc: 0.8220 - val_loss: 1.4349 - val_accuracy: 0.4303 - val_my_auc: 0.6228\n",
            "Epoch 10/100\n",
            "21/21 [==============================] - 0s 16ms/step - loss: 0.4341 - accuracy: 0.8015 - my_auc: 0.8811 - val_loss: 1.1199 - val_accuracy: 0.5576 - val_my_auc: 0.6301\n",
            "Epoch 00010: early stopping\n"
          ],
          "name": "stdout"
        }
      ]
    },
    {
      "cell_type": "code",
      "metadata": {
        "id": "tin7j09LcpwX"
      },
      "source": [
        ""
      ],
      "execution_count": null,
      "outputs": []
    },
    {
      "cell_type": "code",
      "metadata": {
        "id": "-IGRHaVscpye"
      },
      "source": [
        "q1_input = Input(shape=(MAX_LEN,), dtype='int32', name='q1_input')\n",
        "q2_input = Input(shape=(MAX_LEN,), dtype='int32', name='q2_input')\n",
        "\n",
        "def cnn_model(main_input):\n",
        "\n",
        "    #if PRETRAINED_WORD_VECTOR is not None:\n",
        "    embed_1 =  Embedding( MAX_WORDS+1,EMBEDDING_DIM,embeddings_initializer = Constant(embedding),\n",
        "                  mask_zero=True,input_length=MAX_LEN,trainable=False)(main_input)# 需要理清楚大小\n",
        "    #else:\n",
        "        #embed_1 = Embedding(input_dim=MAX_NB_WORDS+1, output_dim=EMBEDDING_DIM, input_length=MAX_DOC_LEN, name='embedding')(main_input)\n",
        "\n",
        "    # Convolution-pooling-flat block\n",
        "    conv_blocks = []\n",
        "    for f in [2,3,4]: # For every filter \n",
        "        conv = Conv1D(filters=36, kernel_size=f, activation='relu')(embed_1) # convolution  # filter-kernal extracting 64 features with ReLU activation function\n",
        "        conv = MaxPooling1D(MAX_LEN-f+1)(conv) # maxpooling\n",
        "        conv = Flatten()(conv) # flatten filters extracting features (size*number = 3*64)\n",
        "        conv_blocks.append(conv) \n",
        "\n",
        "    if len(conv_blocks)>1:\n",
        "        z=Concatenate(name='concate')(conv_blocks)\n",
        "    else:\n",
        "        z=conv_blocks[0]\n",
        "    model = Model(inputs=main_input, outputs=z) # should have different name\n",
        "\n",
        "    return model    # 以上把feature提取了出来, 并且连接起来. 接下里, 需要对相同的model, 不同的输入, 同时提取, 并且计算距离, 根据label, 告诉他距离的权重. \n",
        "\n",
        "\n",
        "# Add Lambda Layer\n",
        "\n",
        "q1_vector = cnn_model(q1_input)(q1_input)  # The first \"q1_input\" is the shape of input\n",
        "q2_vector = cnn_model(q2_input)(q2_input)  # The second \"q1_input\" is the direction of this Network\n",
        "Dist = Lambda(lambda tensors:K.abs(tensors[0] - tensors[1]))([q1_vector, q2_vector]) \n",
        "preds = Dense(1,activation='sigmoid', name='output')(Dist)   # 这里没有保证0和1.\n",
        "siamese_net  = Model(inputs=[q1_input,q2_input], outputs=preds) # The input and output of Siamese_net\n"
      ],
      "execution_count": 108,
      "outputs": []
    },
    {
      "cell_type": "code",
      "metadata": {
        "id": "RfkmKtGFcp1B",
        "colab": {
          "base_uri": "https://localhost:8080/"
        },
        "outputId": "350c54df-54f7-4f1b-ccc8-2f82c5f29106"
      },
      "source": [
        "opt = optimizers.RMSprop(lr=0.01)\n",
        "siamese_net.compile(optimizer= opt,\n",
        "          loss= 'binary_crossentropy', #'mean_squared_error',\n",
        "          metrics=['accuracy',metrics.AUC(name='my_auc')])\n",
        "earlyStopping = EarlyStopping(monitor='val_loss',patience = 5, \n",
        "                  verbose =1, mode ='min')\n",
        "checkPoint = ModelCheckpoint('best_model_1', monitor='val_loss', verbose=2, save_best_only=True, mode='min')"
      ],
      "execution_count": 109,
      "outputs": [
        {
          "output_type": "stream",
          "text": [
            "/usr/local/lib/python3.7/dist-packages/tensorflow/python/keras/optimizer_v2/optimizer_v2.py:375: UserWarning: The `lr` argument is deprecated, use `learning_rate` instead.\n",
            "  \"The `lr` argument is deprecated, use `learning_rate` instead.\")\n"
          ],
          "name": "stderr"
        }
      ]
    },
    {
      "cell_type": "code",
      "metadata": {
        "id": "WdzTH0vaHwct",
        "colab": {
          "base_uri": "https://localhost:8080/"
        },
        "outputId": "749f6a4a-c152-46c0-9eaa-0b6c54e8a905"
      },
      "source": [
        "hist = model_1.fit([train_x_1,train_x_2], train_y, validation_data=([test_x_1,test_x_2], test_y),\\\n",
        "       callbacks = [earlyStopping, checkPoint], batch_size=32, epochs=100, verbose=1)"
      ],
      "execution_count": 110,
      "outputs": [
        {
          "output_type": "stream",
          "text": [
            "Epoch 1/100\n",
            "21/21 [==============================] - 0s 17ms/step - loss: 0.3799 - accuracy: 0.8418 - my_auc: 0.9135 - val_loss: 2.0803 - val_accuracy: 0.4818 - val_my_auc: 0.5694\n",
            "\n",
            "Epoch 00001: val_loss improved from inf to 2.08034, saving model to best_model_1\n"
          ],
          "name": "stdout"
        },
        {
          "output_type": "stream",
          "text": [
            "/usr/local/lib/python3.7/dist-packages/keras/utils/generic_utils.py:497: CustomMaskWarning: Custom mask layers require a config and must override get_config. When loading, the custom mask layer must be passed to the custom_objects argument.\n",
            "  category=CustomMaskWarning)\n"
          ],
          "name": "stderr"
        },
        {
          "output_type": "stream",
          "text": [
            "INFO:tensorflow:Assets written to: best_model_1/assets\n",
            "Epoch 2/100\n",
            "21/21 [==============================] - 0s 17ms/step - loss: 0.3141 - accuracy: 0.8597 - my_auc: 0.9375 - val_loss: 1.7945 - val_accuracy: 0.5545 - val_my_auc: 0.6037\n",
            "\n",
            "Epoch 00002: val_loss improved from 2.08034 to 1.79451, saving model to best_model_1\n"
          ],
          "name": "stdout"
        },
        {
          "output_type": "stream",
          "text": [
            "/usr/local/lib/python3.7/dist-packages/keras/utils/generic_utils.py:497: CustomMaskWarning: Custom mask layers require a config and must override get_config. When loading, the custom mask layer must be passed to the custom_objects argument.\n",
            "  category=CustomMaskWarning)\n"
          ],
          "name": "stderr"
        },
        {
          "output_type": "stream",
          "text": [
            "INFO:tensorflow:Assets written to: best_model_1/assets\n",
            "Epoch 3/100\n",
            "21/21 [==============================] - 0s 18ms/step - loss: 0.2444 - accuracy: 0.9090 - my_auc: 0.9634 - val_loss: 5.3611 - val_accuracy: 0.5000 - val_my_auc: 0.5815\n",
            "\n",
            "Epoch 00003: val_loss did not improve from 1.79451\n",
            "Epoch 4/100\n",
            "21/21 [==============================] - 0s 16ms/step - loss: 0.2157 - accuracy: 0.9254 - my_auc: 0.9714 - val_loss: 7.2274 - val_accuracy: 0.5152 - val_my_auc: 0.5824\n",
            "\n",
            "Epoch 00004: val_loss did not improve from 1.79451\n",
            "Epoch 5/100\n",
            "21/21 [==============================] - 0s 18ms/step - loss: 0.2306 - accuracy: 0.9254 - my_auc: 0.9685 - val_loss: 5.2616 - val_accuracy: 0.5000 - val_my_auc: 0.5744\n",
            "\n",
            "Epoch 00005: val_loss did not improve from 1.79451\n",
            "Epoch 6/100\n",
            "21/21 [==============================] - 0s 17ms/step - loss: 0.1509 - accuracy: 0.9507 - my_auc: 0.9845 - val_loss: 9.9810 - val_accuracy: 0.4485 - val_my_auc: 0.5485\n",
            "\n",
            "Epoch 00006: val_loss did not improve from 1.79451\n",
            "Epoch 7/100\n",
            "21/21 [==============================] - 0s 16ms/step - loss: 0.1342 - accuracy: 0.9567 - my_auc: 0.9882 - val_loss: 15.1902 - val_accuracy: 0.4667 - val_my_auc: 0.5744\n",
            "\n",
            "Epoch 00007: val_loss did not improve from 1.79451\n",
            "Epoch 00007: early stopping\n"
          ],
          "name": "stdout"
        }
      ]
    },
    {
      "cell_type": "code",
      "metadata": {
        "id": "PEsUhyMCJIeF"
      },
      "source": [
        ""
      ],
      "execution_count": null,
      "outputs": []
    },
    {
      "cell_type": "code",
      "metadata": {
        "id": "wwwMySKpJIhJ"
      },
      "source": [
        ""
      ],
      "execution_count": null,
      "outputs": []
    },
    {
      "cell_type": "code",
      "metadata": {
        "id": "5UF8TY3nJIjc"
      },
      "source": [
        ""
      ],
      "execution_count": null,
      "outputs": []
    },
    {
      "cell_type": "code",
      "metadata": {
        "id": "qL3pSXtJJIl5"
      },
      "source": [
        ""
      ],
      "execution_count": null,
      "outputs": []
    },
    {
      "cell_type": "code",
      "metadata": {
        "id": "w_ob7gO2plsT"
      },
      "source": [
        ""
      ],
      "execution_count": null,
      "outputs": []
    },
    {
      "cell_type": "code",
      "metadata": {
        "id": "lzpCuXRqpluz"
      },
      "source": [
        ""
      ],
      "execution_count": null,
      "outputs": []
    },
    {
      "cell_type": "markdown",
      "metadata": {
        "id": "NKSPmcbWND0S"
      },
      "source": [
        ""
      ]
    }
  ]
}